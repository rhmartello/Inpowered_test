{
 "cells": [
  {
   "cell_type": "markdown",
   "metadata": {},
   "source": [
    "_________________________________________________________________________\n",
    "\n",
    "# **Data Scientist Test Task [v2.0] inPowered** \n",
    "\n",
    "\n",
    "Optimizing CPE across groups <br> <br>\n",
    "\n",
    "\n",
    "Rafael Henrique Martello\n",
    "\n",
    "_________________________________________________________________________"
   ]
  },
  {
   "cell_type": "markdown",
   "metadata": {},
   "source": [
    "# [02] DATA PROCESSING"
   ]
  },
  {
   "cell_type": "markdown",
   "metadata": {},
   "source": [
    "## Libraries"
   ]
  },
  {
   "cell_type": "code",
   "execution_count": 1,
   "metadata": {},
   "outputs": [
    {
     "name": "stderr",
     "output_type": "stream",
     "text": [
      "<frozen importlib._bootstrap>:228: RuntimeWarning: scipy._lib.messagestream.MessageStream size changed, may indicate binary incompatibility. Expected 56 from C header, got 64 from PyObject\n"
     ]
    }
   ],
   "source": [
    "# Data handling\n",
    "import pandas as pd\n",
    "import numpy as np\n",
    "\n",
    "# Graphics\n",
    "import matplotlib.pyplot as plt\n",
    "import seaborn as sns\n",
    "\n",
    "# Preprocessing\n",
    "from sklearn.preprocessing import OneHotEncoder\n",
    "from sklearn.preprocessing import MinMaxScaler, StandardScaler\n",
    "from sklearn.model_selection import train_test_split\n"
   ]
  },
  {
   "cell_type": "markdown",
   "metadata": {},
   "source": [
    "## Load Data"
   ]
  },
  {
   "cell_type": "code",
   "execution_count": 2,
   "metadata": {},
   "outputs": [],
   "source": [
    "# Carregando dados:\n",
    "\n",
    "df = pd.read_csv('Data/Raw/problem_merged_data.csv')"
   ]
  },
  {
   "cell_type": "markdown",
   "metadata": {},
   "source": [
    "# Data Preparation"
   ]
  },
  {
   "cell_type": "markdown",
   "metadata": {},
   "source": [
    "### 1 - Null values "
   ]
  },
  {
   "cell_type": "code",
   "execution_count": 3,
   "metadata": {},
   "outputs": [
    {
     "data": {
      "text/plain": [
       "targetInterest     0.582045\n",
       "targetAge          0.608799\n",
       "targetOs           0.608799\n",
       "targetDevices      0.608799\n",
       "targetGender       0.608799\n",
       "targetLanguages    0.608799\n",
       "CATEGORY_1         0.380499\n",
       "dtype: float64"
      ]
     },
     "execution_count": 3,
     "metadata": {},
     "output_type": "execute_result"
    }
   ],
   "source": [
    "(df.isna().sum()/df.shape[0])[(df.isna().sum()/df.shape[0])>0]"
   ]
  },
  {
   "cell_type": "code",
   "execution_count": 4,
   "metadata": {},
   "outputs": [],
   "source": [
    "# If we were working with monthly data, it would be more interesting to handle the missing values\n",
    "# after splitting into train and test sets to avoid contamination.\n",
    "\n",
    "# We have two possible approaches: remove the columns with missing values (It's not possible to remove the lines because they contain more than 60% nulls),\n",
    "# or use a technique to fill (input) them (mean/median or mode imputation or methods like KNN imputer).\n",
    "# in this case we will use unknown as our empty value (sometimes an empty value carries more information)"
   ]
  },
  {
   "cell_type": "code",
   "execution_count": 5,
   "metadata": {},
   "outputs": [],
   "source": [
    "df = df.fillna(value=\"unknown\")"
   ]
  },
  {
   "cell_type": "markdown",
   "metadata": {},
   "source": [
    "### 2 - Identifying and removing Outliers\n"
   ]
  },
  {
   "cell_type": "code",
   "execution_count": 6,
   "metadata": {},
   "outputs": [
    {
     "name": "stdout",
     "output_type": "stream",
     "text": [
      "Original DataFrame size: (1682, 11)\n",
      "DataFrame size after removing outliers: (1668, 11)\n"
     ]
    }
   ],
   "source": [
    "\n",
    "def Outliers(data, feature_list):\n",
    "    '''\n",
    "    Outlier detection using IQR\n",
    "    '''\n",
    "    # Calculate the IQR for each numeric column\n",
    "    data2 = data[feature_list]\n",
    "    Q1 = data2.quantile(0.025)\n",
    "    Q3 = data2.quantile(0.975)\n",
    "    IQR = Q3 - Q1\n",
    "\n",
    "    # Define limits for outlier detection\n",
    "    lower_bound = Q1 - 1.5 * IQR\n",
    "    upper_bound = Q3 + 1.5 * IQR\n",
    "\n",
    "    # Remove outliers\n",
    "    data_clean = data2[~((data2 < lower_bound) | (data2 > upper_bound)).any(axis=1)]\n",
    "\n",
    "    # Check the size of the data before and after removing outliers\n",
    "    print(\"Original DataFrame size:\", data2.shape)\n",
    "    print(\"DataFrame size after removing outliers:\", data_clean.shape)\n",
    "\n",
    "    if data2.shape[0] != data_clean.shape[0]:\n",
    "        return data.iloc[data2.index,:]\n",
    "\n",
    "# Example usage\n",
    "df_trated = Outliers(df, list(df.select_dtypes('number').columns))\n",
    "\n",
    "\n"
   ]
  },
  {
   "cell_type": "markdown",
   "metadata": {},
   "source": [
    "### 3 - Encoding categorical variables"
   ]
  },
  {
   "cell_type": "code",
   "execution_count": 7,
   "metadata": {},
   "outputs": [],
   "source": [
    "# I am choosing to remove these variables at the moment\n",
    "# With proper treatment, they could improve the model\n",
    "# but for the current test, I am opting to exclude them\n",
    "\n",
    "\n",
    "df_trated.drop(['date', 'headline', 'storySummary', 'targetGeo', 'targetInterest'], inplace=True, axis=1)"
   ]
  },
  {
   "cell_type": "code",
   "execution_count": 8,
   "metadata": {},
   "outputs": [],
   "source": [
    "df_trated.to_parquet('Data/Processed/data_trated.parquet')"
   ]
  },
  {
   "cell_type": "code",
   "execution_count": 9,
   "metadata": {},
   "outputs": [],
   "source": [
    "list_vars = ['group',\n",
    "            'channel',\n",
    "            'IABCategory',\n",
    "            'targetAge',\n",
    "            'targetOs',\n",
    "            'targetDevices',\n",
    "            'targetGender',\n",
    "            'targetLanguages',\n",
    "            'CATEGORY_1']"
   ]
  },
  {
   "cell_type": "code",
   "execution_count": 10,
   "metadata": {},
   "outputs": [],
   "source": [
    "categorical_columns = df_trated[list_vars].select_dtypes(include=['object']).columns.tolist()\n",
    "encoder = OneHotEncoder(sparse_output=False, drop='if_binary')\n",
    "one_hot_encoded = encoder.fit_transform(df[categorical_columns])\n",
    "one_hot_df = pd.DataFrame(one_hot_encoded, columns=encoder.get_feature_names_out(categorical_columns))\n",
    "df_encoded = pd.concat([df, one_hot_df], axis=1)\n",
    "df_encoded = df_encoded.drop(categorical_columns, axis=1)"
   ]
  },
  {
   "cell_type": "code",
   "execution_count": 11,
   "metadata": {},
   "outputs": [
    {
     "data": {
      "text/plain": [
       "(1682, 44)"
      ]
     },
     "execution_count": 11,
     "metadata": {},
     "output_type": "execute_result"
    }
   ],
   "source": [
    "df_encoded.shape"
   ]
  },
  {
   "cell_type": "code",
   "execution_count": 12,
   "metadata": {},
   "outputs": [
    {
     "data": {
      "text/plain": [
       "Index(['date', 'headline', 'storySummary', 'targetGeo', 'targetInterest'], dtype='object')"
      ]
     },
     "execution_count": 12,
     "metadata": {},
     "output_type": "execute_result"
    }
   ],
   "source": [
    "df_encoded.select_dtypes('object').nunique().index"
   ]
  },
  {
   "cell_type": "code",
   "execution_count": 13,
   "metadata": {},
   "outputs": [
    {
     "data": {
      "text/plain": [
       "Index(['group', 'item', 'date', 'bid', 'budget', 'engagements', 'page_views',\n",
       "       'clicks', 'active_days', 'media_spend', 'media_cpc', 'cpe', 'headline',\n",
       "       'storySummary', 'targetGeo', 'targetInterest', 'channel_MGID',\n",
       "       'channel_REVCONTENT', 'channel_YAHOO',\n",
       "       'IABCategory_Business and Finance', 'IABCategory_Medical Health',\n",
       "       'IABCategory_News and Politics', 'IABCategory_Travel',\n",
       "       'targetAge_35-44;', 'targetAge_45-54;', 'targetAge_55-64;',\n",
       "       'targetAge_65+;', 'targetAge_unknown', 'targetOs_ANDROID;',\n",
       "       'targetOs_IOS;', 'targetOs_unknown', 'targetDevices_unknown',\n",
       "       'targetGender_FEMALE;', 'targetGender_MALE;', 'targetGender_unknown',\n",
       "       'targetLanguages_unknown',\n",
       "       'CATEGORY_1_/Autos & Vehicles/Vehicle Codes & Driving Laws',\n",
       "       'CATEGORY_1_/Business & Industrial',\n",
       "       'CATEGORY_1_/Business & Industrial/Construction & Maintenance',\n",
       "       'CATEGORY_1_/Computers & Electronics/Computer Security',\n",
       "       'CATEGORY_1_/Finance/Insurance', 'CATEGORY_1_/Health/Health Conditions',\n",
       "       'CATEGORY_1_/Health/Women's Health', 'CATEGORY_1_unknown'],\n",
       "      dtype='object')"
      ]
     },
     "execution_count": 13,
     "metadata": {},
     "output_type": "execute_result"
    }
   ],
   "source": [
    "df_encoded.columns"
   ]
  },
  {
   "cell_type": "code",
   "execution_count": null,
   "metadata": {},
   "outputs": [],
   "source": []
  },
  {
   "cell_type": "code",
   "execution_count": 14,
   "metadata": {},
   "outputs": [
    {
     "data": {
      "text/plain": [
       "(1682, 44)"
      ]
     },
     "execution_count": 14,
     "metadata": {},
     "output_type": "execute_result"
    }
   ],
   "source": [
    "df_encoded.shape"
   ]
  },
  {
   "cell_type": "markdown",
   "metadata": {},
   "source": [
    "### 4 - Train and test split"
   ]
  },
  {
   "cell_type": "code",
   "execution_count": 15,
   "metadata": {},
   "outputs": [],
   "source": [
    "train, test = train_test_split(df_encoded, test_size=0.33, random_state=42)"
   ]
  },
  {
   "cell_type": "code",
   "execution_count": 16,
   "metadata": {},
   "outputs": [
    {
     "data": {
      "text/plain": [
       "((1126, 44), (556, 44))"
      ]
     },
     "execution_count": 16,
     "metadata": {},
     "output_type": "execute_result"
    }
   ],
   "source": [
    "train.shape, test.shape"
   ]
  },
  {
   "cell_type": "code",
   "execution_count": 17,
   "metadata": {},
   "outputs": [],
   "source": [
    "# I will leave the data normalization for the model pipeline\n",
    "\n",
    "train.to_parquet('Data/Processed/train_data.parquet')\n",
    "test.to_parquet('Data/Processed/test_data.parquet')"
   ]
  }
 ],
 "metadata": {
  "kernelspec": {
   "display_name": "base",
   "language": "python",
   "name": "python3"
  },
  "language_info": {
   "codemirror_mode": {
    "name": "ipython",
    "version": 3
   },
   "file_extension": ".py",
   "mimetype": "text/x-python",
   "name": "python",
   "nbconvert_exporter": "python",
   "pygments_lexer": "ipython3",
   "version": "3.9.16"
  }
 },
 "nbformat": 4,
 "nbformat_minor": 2
}
